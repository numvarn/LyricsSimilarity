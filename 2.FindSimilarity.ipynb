{
 "cells": [
  {
   "cell_type": "markdown",
   "metadata": {},
   "source": [
    "# การนำโมเดล Gensim Doc2Vec มาใช้งาน\n",
    "\n",
    "การนำเอา Pe-train Doc2Vec Model มาใช้งานจริง \n",
    "\n",
    "สำหรับการสืบค้นหาเอกสารที่ต้องการจากข้อมูลป้อนเข้า กับเอกสารที่มีอยู่ใน Corpus\n",
    "\n",
    "ด้วยการค้นหาความคล้าย (Similarity)\n",
    "\n",
    "Ref : https://lukkiddd.com/paragraph-vector-what-is-it-8bcc44d83cfb"
   ]
  },
  {
   "cell_type": "code",
   "execution_count": 8,
   "metadata": {},
   "outputs": [],
   "source": [
    "import gensim"
   ]
  },
  {
   "cell_type": "markdown",
   "metadata": {},
   "source": [
    "### โหลด Pe-train Doc2Vec Model\n",
    "\n",
    "โหลดโมเดลที่ได้ทำการบันทึกเอาไว้ซึ่งได้จากการ Train ก่อนหน้าด้วย Corpus ที่เตรียมไว้"
   ]
  },
  {
   "cell_type": "code",
   "execution_count": 9,
   "metadata": {},
   "outputs": [],
   "source": [
    "'''\n",
    "Load The Pretrain Doc2Vec Model\n",
    "'''\n",
    "model = gensim.models.doc2vec.Doc2Vec.load('./model_docvec.d2v')"
   ]
  },
  {
   "cell_type": "markdown",
   "metadata": {},
   "source": [
    "### รับ Input Document"
   ]
  },
  {
   "cell_type": "code",
   "execution_count": 10,
   "metadata": {},
   "outputs": [],
   "source": [
    "'''\n",
    "Test the model !!\n",
    "By get input document and transform it into infer vector\n",
    "'''\n",
    "\n",
    "# doc_org = 'ขอ|พึ่ง|แรง|แห่ง|ฝัน|บันดาล|ให้|เจอ|คนดี|ให้|สาว|ไกล|บ้าน|คน|นี้|ได้|มี|คน|คอย|ปลอบ|เหงา|งาน|ยุ่ง|เมือง|ใหญ่|ขอ|ใจ|ฮัก|มั่น|กัน|หนาว|นำพา|ใน|ทุก|เรื่องราว|ให้|สาว|ดอก|หญ้า|อุ่นใจ'\n",
    "\n",
    "# ตัดทอน Tokens บางตัวออกไป\n",
    "# id : 0\n",
    "# doc_input = 'ขอ|พึ่ง|แรง|แห่ง|ฝัน|ให้|เจอ|คนดี|ให้|สาว|ไกล|บ้าน|นี้|ได้|มี|คน|คอย|ปลอบ|เหงา|งาน|ยุ่ง|เมือง|ใหญ่|ขอ|ใจ|ฮัก|มั่น|กัน|หนาว|นำพา|ทุก|เรื่องราว|ให้|ดอก|หญ้า|อุ่นใจ'\n",
    "\n",
    "# unknow_id\n",
    "doc_input = 'ทุกข์|ท้อ|มี|บ้าง|เมื่อ|เข้ามา|ย่าง|อยู่|แม่|อย่า|ได้|คอย|เป็นห่วง|ลูก|มา|เพื่อ|ทวงสิทธิ์|ความจน|สิ|จำ|คำ|เว้า|ให้|ลูก|อด|เอา|เด้อ|หล่า|อย่า|บ่น|ให้|ฮู้|อด|ทน|ย่อ|เด้อ|ลูก|หล่า|แม่'"
   ]
  },
  {
   "cell_type": "markdown",
   "metadata": {},
   "source": [
    "### แปลง Input Document ให้เป็น Infer_vector"
   ]
  },
  {
   "cell_type": "code",
   "execution_count": 11,
   "metadata": {},
   "outputs": [],
   "source": [
    "test_vec = doc_input.split(\"|\")\n",
    "\n",
    "inferred_vector = model.infer_vector(test_vec)"
   ]
  },
  {
   "cell_type": "markdown",
   "metadata": {},
   "source": [
    "### นำ Infer_vector ไปค้นหาเอกสารที่ต้องการ\n",
    "\n",
    "ผลลัพธ์ที่ต้องการคือ ID ของเอกสาร\n",
    "\n",
    "ทำการแสดงเอกสารที่มีความคล้ายคลึงกับ Input Document มากที่สุด 3 ลำดับ"
   ]
  },
  {
   "cell_type": "code",
   "execution_count": 12,
   "metadata": {},
   "outputs": [
    {
     "name": "stdout",
     "output_type": "stream",
     "text": [
      "Test Document: «ทุกข์ ท้อ มี บ้าง เมื่อ เข้ามา ย่าง อยู่ แม่ อย่า ได้ คอย เป็นห่วง ลูก มา เพื่อ ทวงสิทธิ์ ความจน สิ จำ คำ เว้า ให้ ลูก อด เอา เด้อ หล่า อย่า บ่น ให้ ฮู้ อด ทน ย่อ เด้อ ลูก หล่า แม่»\n",
      "\n",
      "SIMILAR/DISSIMILAR DOCS PER MODEL Doc2Vec(dm/m,d200,n5,w5,mc2,s0.001,t3):\n",
      "\n",
      "MOST (53, 0.8501933217048645): «53»\n",
      "\n",
      "MEDIAN (438, 0.10784190148115158): «438»\n",
      "\n",
      "LEAST (1093, -0.4270556569099426): «1093»\n",
      "\n"
     ]
    }
   ],
   "source": [
    "sims = model.docvecs.most_similar([inferred_vector], topn=len(model.docvecs))\n",
    "\n",
    "# Compare and print the most/median/least similar documents from the train corpus\n",
    "print('Test Document: «{}»\\n'.format(' '.join(test_vec)))\n",
    "\n",
    "print(u'SIMILAR/DISSIMILAR DOCS PER MODEL %s:\\n' % model)\n",
    "\n",
    "for label, index in [('MOST', 0), ('MEDIAN', len(sims)//2), ('LEAST', len(sims) - 1)]:\n",
    "    # print(u'%s %s: «%s»\\n' % (label, sims[index], ''.join(train_corpus[sims[index][0]].words)))\n",
    "    print(u'%s %s: «%d»\\n' % (label, sims[index], sims[index][0]))"
   ]
  },
  {
   "cell_type": "code",
   "execution_count": null,
   "metadata": {},
   "outputs": [],
   "source": []
  }
 ],
 "metadata": {
  "file_extension": ".py",
  "kernelspec": {
   "display_name": "Python 3",
   "language": "python",
   "name": "python3"
  },
  "language_info": {
   "codemirror_mode": {
    "name": "ipython",
    "version": 3
   },
   "file_extension": ".py",
   "mimetype": "text/x-python",
   "name": "python",
   "nbconvert_exporter": "python",
   "pygments_lexer": "ipython3",
   "version": "3.7.6"
  },
  "mimetype": "text/x-python",
  "name": "python",
  "npconvert_exporter": "python",
  "pygments_lexer": "ipython3",
  "version": 3
 },
 "nbformat": 4,
 "nbformat_minor": 2
}
